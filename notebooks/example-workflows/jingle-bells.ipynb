{
 "cells": [
  {
   "cell_type": "markdown",
   "metadata": {},
   "source": [
    "<img src=\"images/ProjectPythia_Logo_Final-01-Blue.svg\" width=250 alt=\"Project Pythia Logo\"></img>"
   ]
  },
  {
   "cell_type": "markdown",
   "metadata": {},
   "source": [
    "# PyWavelets and Jingle Bells\n",
    "\n",
    "Wavelet analysis is accomplished in Python via external package. PyWavelets is an open source Python package for applying wavelet analysis. \n",
    "\n",
    "[PyWavelets: pywt.cwt](https://pywavelets.readthedocs.io/en/latest/ref/cwt.html#pywt.cwt)"
   ]
  },
  {
   "cell_type": "markdown",
   "metadata": {},
   "source": [
    "---"
   ]
  },
  {
   "cell_type": "markdown",
   "metadata": {},
   "source": [
    "## Overview\n",
    "If you have an introductory paragraph, lead with it here! Keep it short and tied to your material, then be sure to continue into the required list of topics below,\n",
    "\n",
    "1. Prerequisites\n",
    "2. Background\n",
    "3. PyWavelets Overview\n",
    "4. Wavelet Power Spectrum\n",
    "5. Wavelet Phase Spectrum"
   ]
  },
  {
   "cell_type": "markdown",
   "metadata": {},
   "source": [
    "## Prerequisites\n",
    "\n",
    "| Concepts | Importance | Notes |\n",
    "| --- | --- | --- |\n",
    "| [Wavelet Basics](https://projectpythia.org/wavelet-cookbook/notebooks/wavelet-introduction/wavelet-basics.html) | Necessary | Wavelet Terminology |\n",
    "| [Intro to Matplotlib](https://foundations.projectpythia.org/core/matplotlib/matplotlib-basics.html) | Necessary | Plotting on a data |\n",
    "| [Intro to Numpy](https://foundations.projectpythia.org/core/numpy/numpy-basics.html)| Necessary | Familiarity with working with arrays |\n",
    "\n",
    "\n",
    "- **Time to learn**: estimate in minutes. For a rough idea, use 5 mins per subsection, 10 if longer; add these up for a total. Safer to round up and overestimate.\n",
    "- **System requirements**:\n",
    "    - Populate with any system, version, or non-Python software requirements if necessary\n",
    "    - Otherwise use the concepts table above and the Imports section below to describe required packages as necessary\n",
    "    - If no extra requirements, remove the **System requirements** point altogether"
   ]
  },
  {
   "cell_type": "markdown",
   "metadata": {},
   "source": [
    "---"
   ]
  },
  {
   "cell_type": "markdown",
   "metadata": {},
   "source": [
    "## Imports\n",
    "Begin your body of content with another `---` divider before continuing into this section, then remove this body text and populate the following code cell with all necessary Python imports **up-front**:"
   ]
  },
  {
   "cell_type": "code",
   "metadata": {},
   "outputs": [],
   "source": [
    "import sys"
   ]
  },
  {
   "cell_type": "markdown",
   "metadata": {},
   "source": [
    "## PyWavelets Overview\n",
    "\n",
    "[PyWavelets: pywt.cwt](https://pywavelets.readthedocs.io/en/latest/ref/cwt.html#pywt.cwt)\n",
    "\n",
    "Wavelet analysis is accomplished in Python via external package. PyWavelets is an open source Python package for applying wavelet analysis. \n",
    "\n",
    "```\n",
    "coeffs, freqs = pywt.cwt(data, scales, wavelet, sampling_period)\n",
    "```"
   ]
  },
  {
   "cell_type": "markdown",
   "metadata": {},
   "source": [
    "### Input Values\n",
    "- scales: array_like collection of the scales to use (np.arange(s0, jtot, dj))\n",
    "- wavelet: name of Mother wavelet\n",
    "- sampling_period: optional sampling period for frequencies output"
   ]
  },
  {
   "cell_type": "markdown",
   "metadata": {},
   "source": [
    "### Return Values\n",
    "- coefs: array_like collection of complex number output for wavelet coefficients\n",
    "- freqs: array_like collection of frequencies"
   ]
  },
  {
   "cell_type": "markdown",
   "metadata": {},
   "source": [
    "### Choosing a Scale\n",
    "### Scales vs. Frequency\n",
    "\n",
    "The range of scales are a combination of s0, dj, and jtot. The musical range of frequenceis range from 261 - 494 Hz\n",
    "\n",
    "| Note   | Freq   |\n",
    "|--------|--------|\n",
    "| A note | 440 hz |\n",
    "| B note | 494 hz |\n",
    "| C note | 261 hz |\n",
    "| D note | 293 hz |\n",
    "| E note | 330 hz |\n",
    "| F note | 350 hz |\n",
    "| G note | 392 hz |\n",
    "\n",
    "It is good to include a range greater than needed to make clear bands for each frequency\n",
    "\n",
    "For example, scales from 1 to 40 represent a frequency (Hz) range from 8125 - 208.33 Hz\n",
    "\n",
    "| Scale   | Freq (Hz) |\n",
    "|--------|--------|\n",
    "| 1 | 8125.00 |\n",
    "| 2 | 4062.50 |\n",
    "| 3 | 2708.33 |\n",
    "| 4 | 2031.25 |\n",
    "| 5 | 1625.00 |\n",
    "| 6 | 1354.17 |\n",
    "| 7 | 1160.71 |\n",
    "| 8 | 1015.62 |\n",
    "| 9 | 902.78 |\n",
    "| 10 | 812.50 |\n",
    "| 11 | 738.64 |\n",
    "| 12 | 677.08 |\n",
    "| 13 | 625.00 |\n",
    "| 14 | 580.36 |\n",
    "| 15 | 541.67 |\n",
    "| 16 | 507.81 |\n",
    "| 17 | 477.94 |\n",
    "| 18 | 451.39 |\n",
    "| 19 | 427.63 |\n",
    "| 20 | 406.25 |\n",
    "| 21 | 386.90 |\n",
    "| 22 | 369.32 |\n",
    "| 23 | 353.26 |\n",
    "| 24 | 338.54 |\n",
    "| 25 | 325.00 |\n",
    "| 26 | 312.50 |\n",
    "| 27 | 300.93 |\n",
    "| 28 | 290.18 |\n",
    "| 29 | 280.17 |\n",
    "| 30 | 270.83 |\n",
    "| 31 | 262.10 |\n",
    "| 32 | 253.91 |\n",
    "| 33 | 246.21 |\n",
    "| 34 | 238.97 |\n",
    "| 35 | 232.14 |\n",
    "| 36 | 225.69 |\n",
    "| 37 | 219.59 |\n",
    "| 38 | 213.82 |\n",
    "| 39 | 208.33 |\n",
    "\n",
    "```\n",
    "sample_rate, signal_data = wavfile.read('jingle_bells.wav')\n",
    "scales = np.arange(1, 40)\n",
    "wavelet_coeffs, freqs = pywt.cwt(signal_data, scales, wavelet = \"morl\")\n",
    "```"
   ]
  },
  {
   "cell_type": "markdown",
   "metadata": {},
   "source": [
    "## Power Spectrum"
   ]
  },
  {
   "cell_type": "markdown",
   "metadata": {},
   "source": [
    "`wavelet_coeffs` is a complex number with a real and an imaginary number (1 + 2i). The power spectrum plots the real component of the complex number. The real component represents the magntiude of the wavelet coefficient displayed as the absolute value of the coefficients squared\n",
    "\n",
    "Wavelet_coeff is a complex number with a real and an imaginary number (1 + 2i). The power spectrum plots the real component of the complex number\n",
    "\n",
    "```\n",
    "import numpy as np\n",
    "real_component = np.log2(np.square(abs(wavelet_coeffs)))\n",
    "```\n",
    "\n",
    "The real component represents the magntiude of the wavelet coefficient"
   ]
  },
  {
   "cell_type": "markdown",
   "metadata": {},
   "source": [
    "## Phase Spectrum"
   ]
  },
  {
   "cell_type": "markdown",
   "metadata": {},
   "source": [
    "Wavelet_coeff is a complex number with a real and an imaginary number (1 + 2i). The less common phase plot uses the imaginary component of the complex number\n",
    "\n",
    "```\n",
    "import numpy as np\n",
    "\n",
    "# note: np.angle() returns the angle of a complex argument\n",
    "\n",
    "imaginary_component = np.angle(wavelet_coeffs)\n",
    "```\n",
    "\n",
    "The imaginary component represents the direction of the wavelet coefficient"
   ]
  },
  {
   "cell_type": "markdown",
   "metadata": {},
   "source": [
    "## Last Section\n",
    "\n",
    "If you're comfortable, and as we briefly used for our embedded logo up top, you can embed raw html into Jupyter Markdown cells (edit to see):"
   ]
  },
  {
   "cell_type": "markdown",
   "metadata": {},
   "source": [
    "<div class=\"admonition alert alert-info\">\n",
    "    <p class=\"admonition-title\" style=\"font-weight:bold\">Info</p>\n",
    "    Your relevant information here!\n",
    "</div>"
   ]
  },
  {
   "cell_type": "markdown",
   "metadata": {},
   "source": [
    "Feel free to copy this around and edit or play around with yourself. Some other `admonitions` you can put in:"
   ]
  },
  {
   "cell_type": "markdown",
   "metadata": {},
   "source": [
    "<div class=\"admonition alert alert-success\">\n",
    "    <p class=\"admonition-title\" style=\"font-weight:bold\">Success</p>\n",
    "    We got this done after all!\n",
    "</div>"
   ]
  },
  {
   "cell_type": "markdown",
   "metadata": {},
   "source": [
    "<div class=\"admonition alert alert-warning\">\n",
    "    <p class=\"admonition-title\" style=\"font-weight:bold\">Warning</p>\n",
    "    Be careful!\n",
    "</div>"
   ]
  },
  {
   "cell_type": "markdown",
   "metadata": {},
   "source": [
    "<div class=\"admonition alert alert-danger\">\n",
    "    <p class=\"admonition-title\" style=\"font-weight:bold\">Danger</p>\n",
    "    Scary stuff be here.\n",
    "</div>"
   ]
  },
  {
   "cell_type": "markdown",
   "metadata": {},
   "source": [
    "We also suggest checking out Jupyter Book's [brief demonstration](https://jupyterbook.org/content/metadata.html#jupyter-cell-tags) on adding cell tags to your cells in Jupyter Notebook, Lab, or manually. Using these cell tags can allow you to [customize](https://jupyterbook.org/interactive/hiding.html) how your code content is displayed and even [demonstrate errors](https://jupyterbook.org/content/execute.html#dealing-with-code-that-raises-errors) without altogether crashing our loyal army of machines!"
   ]
  },
  {
   "cell_type": "markdown",
   "metadata": {},
   "source": [
    "---"
   ]
  },
  {
   "cell_type": "markdown",
   "metadata": {},
   "source": [
    "## Summary\n",
    "Add one final `---` marking the end of your body of content, and then conclude with a brief single paragraph summarizing at a high level the key pieces that were learned and how they tied to your objectives. Look to reiterate what the most important takeaways were.\n",
    "\n",
    "### What's next?\n",
    "Let Jupyter book tie this to the next (sequential) piece of content that people could move on to down below and in the sidebar. However, if this page uniquely enables your reader to tackle other nonsequential concepts throughout this book, or even external content, link to it here!"
   ]
  },
  {
   "cell_type": "markdown",
   "metadata": {},
   "source": [
    "## Resources and references\n",
    "Finally, be rigorous in your citations and references as necessary. Give credit where credit is due. Also, feel free to link to relevant external material, further reading, documentation, etc. Then you're done! Give yourself a quick review, a high five, and send us a pull request. A few final notes:\n",
    " - `Kernel > Restart Kernel and Run All Cells...` to confirm that your notebook will cleanly run from start to finish\n",
    " - `Kernel > Restart Kernel and Clear All Outputs...` before committing your notebook, our machines will do the heavy lifting\n",
    " - Take credit! Provide author contact information if you'd like; if so, consider adding information here at the bottom of your notebook\n",
    " - Give credit! Attribute appropriate authorship for referenced code, information, images, etc.\n",
    " - Only include what you're legally allowed: **no copyright infringement or plagiarism**\n",
    " \n",
    "Thank you for your contribution!"
   ]
  }
 ],
 "metadata": {
  "kernelspec": {
   "display_name": "Python 3 (ipykernel)",
   "language": "python",
   "name": "python3"
  },
  "language_info": {
   "codemirror_mode": {
    "name": "ipython",
    "version": 3
   },
   "file_extension": ".py",
   "mimetype": "text/x-python",
   "name": "python",
   "nbconvert_exporter": "python",
   "pygments_lexer": "ipython3",
   "version": "3.11.8"
  },
  "nbdime-conflicts": {
   "local_diff": [
    {
     "diff": [
      {
       "diff": [
        {
         "key": 0,
         "op": "addrange",
         "valuelist": [
          "Python 3"
         ]
        },
        {
         "key": 0,
         "length": 1,
         "op": "removerange"
        }
       ],
       "key": "display_name",
       "op": "patch"
      }
     ],
     "key": "kernelspec",
     "op": "patch"
    }
   ],
   "remote_diff": [
    {
     "diff": [
      {
       "diff": [
        {
         "key": 0,
         "op": "addrange",
         "valuelist": [
          "Python3"
         ]
        },
        {
         "key": 0,
         "length": 1,
         "op": "removerange"
        }
       ],
       "key": "display_name",
       "op": "patch"
      }
     ],
     "key": "kernelspec",
     "op": "patch"
    }
   ]
  },
  "toc-autonumbering": false
 },
 "nbformat": 4,
 "nbformat_minor": 4
}
