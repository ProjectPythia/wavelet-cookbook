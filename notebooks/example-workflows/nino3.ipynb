{
 "cells": [
  {
   "cell_type": "markdown",
   "metadata": {},
   "source": [
    "Weekly Sea Surface Temperature Patterns from NOAA\n",
    "<p align=\"center\">\n",
    "  <img src=\"https://www.climate.gov/sites/default/files/2023-06/ENSOblog_animation_SSTA_anom_weekly_2023_Jun.gif\" alt=\"Weekly Sea Surface Temperature Patterns from NOAA\" />\n",
    "</p>"
   ]
  },
  {
   "cell_type": "markdown",
   "metadata": {},
   "source": [
    "# Atmospheric Data: Nino 3 SST Index"
   ]
  },
  {
   "cell_type": "markdown",
   "metadata": {},
   "source": [
    "---"
   ]
  },
  {
   "cell_type": "markdown",
   "metadata": {},
   "source": [
    "## Overview\n",
    "Generating a wavelet power and phase spectrum from the  time-series data [Nino 3 SST Index](https://psl.noaa.gov/gcos_wgsp/Timeseries/Nino3/)\n",
    "\n",
    "1. Prerequisties\n",
    "2. Background\n",
    "3. Download and Organize Nino 3 SST Data\n",
    "4. Wavelet Input Values\n",
    "5. PyWavelets\n",
    "6. Power Spectrum\n",
    "7. Phase Spectrum"
   ]
  },
  {
   "cell_type": "markdown",
   "metadata": {},
   "source": [
    "## Prerequisites\n",
    "\n",
    "| Concepts | Importance | Notes |\n",
    "| --- | --- | --- |\n",
    "| [Wavelet Basics](https://projectpythia.org/wavelet-cookbook/notebooks/wavelet-introduction/wavelet-basics.html) | Necessary | Wavelet Terminology |\n",
    "| [Intro to Matplotlib](https://foundations.projectpythia.org/core/matplotlib/matplotlib-basics.html) | Necessary | Plotting on a data |\n",
    "| [Intro to Numpy](https://foundations.projectpythia.org/core/numpy/numpy-basics.html)| Necessary | Familiarity with working with arrays |\n",
    "\n",
    "- **Time to learn**: estimate in minutes. For a rough idea, use 5 mins per subsection, 10 if longer; add these up for a total. Safer to round up and overestimate.\n",
    "- **System requirements**:\n",
    "    - Populate with any system, version, or non-Python software requirements if necessary\n",
    "    - Otherwise use the concepts table above and the Imports section below to describe required packages as necessary\n",
    "    - If no extra requirements, remove the **System requirements** point altogether"
   ]
  },
  {
   "cell_type": "markdown",
   "metadata": {},
   "source": [
    "---"
   ]
  },
  {
   "cell_type": "markdown",
   "metadata": {},
   "source": [
    "## Background\n",
    "\n",
    "### What is an El Niño?\n",
    "\n",
    "[Learn more!](https://oceanservice.noaa.gov/facts/ninonina.html)\n",
    "\n",
    "### Wavelets and Atmospheric Data\n",
    "\n",
    "TODO"
   ]
  },
  {
   "cell_type": "markdown",
   "metadata": {},
   "source": [
    "## Imports"
   ]
  },
  {
   "cell_type": "code",
   "execution_count": 12,
   "metadata": {},
   "outputs": [
    {
     "name": "stderr",
     "output_type": "stream",
     "text": [
      "Updating file 'registry.txt' from 'https://github.com/NCAR/GeoCAT-datafiles/raw/main/registry.txt' to '/home/user/.cache/geocat'.\n"
     ]
    }
   ],
   "source": [
    "import pywt                      # PyWavelets\n",
    "import numpy as np               # complex numbers (real and imaginary)\n",
    "import xarray as xr              # working with geocat-datafiles\n",
    "import geocat.datafiles as gcd   # accessing nino 3 data file\n",
    "import matplotlib.pyplot as plt  # plot data"
   ]
  },
  {
   "cell_type": "markdown",
   "metadata": {},
   "source": [
    "### Download and Organize Nino 3 SST Data"
   ]
  },
  {
   "cell_type": "markdown",
   "metadata": {},
   "source": [
    "#### Download Nino 3 data from geocat-datafiles"
   ]
  },
  {
   "cell_type": "code",
   "execution_count": 24,
   "metadata": {},
   "outputs": [
    {
     "name": "stdout",
     "output_type": "stream",
     "text": [
      "[-0.15 -0.3  -0.14 -0.41 -0.46 -0.66 -0.5  -0.8  -0.95 -0.72 -0.31 -0.71\n",
      " -1.04 -0.77 -0.86 -0.84 -0.41 -0.49 -0.48 -0.72 -1.21 -0.8   0.16  0.46\n",
      "  0.4   1.    2.17  2.5   2.34  0.8   0.14 -0.06 -0.34 -0.71 -0.34 -0.73\n",
      " -0.48 -0.11  0.22  0.51  0.51  0.25 -0.1  -0.33 -0.42 -0.23 -0.53 -0.44\n",
      " -0.3   0.15  0.09  0.19 -0.06  0.25  0.3   0.81  0.26  0.1   0.34  1.01\n",
      " -0.31 -0.9  -0.73 -0.92 -0.73 -0.31 -0.03  0.12  0.37  0.82  1.22  1.83\n",
      "  1.6   0.34 -0.72 -0.87 -0.85 -0.4  -0.39 -0.65  0.07  0.67  0.39  0.03\n",
      " -0.17 -0.76 -0.87 -1.36 -1.1  -0.99 -0.78 -0.93 -0.87 -0.44 -0.34 -0.5\n",
      " -0.39 -0.04  0.42  0.62  0.17  0.23  1.03  1.54  1.09  0.01  0.12 -0.27\n",
      " -0.47 -0.41 -0.37 -0.36 -0.39  0.43  1.05  1.58  1.25  0.86  0.6   0.21\n",
      "  0.19 -0.23 -0.29  0.18  0.12  0.71  1.42  1.59  0.93 -0.25 -0.66 -0.95\n",
      " -0.47  0.06  0.7   0.81  0.78  1.43  1.22  1.05  0.44 -0.35 -0.67 -0.84\n",
      " -0.66 -0.45 -0.12 -0.2  -0.16 -0.47 -0.52 -0.79 -0.8  -0.62 -0.86 -1.29\n",
      " -1.04 -1.05 -0.75 -0.81 -0.9  -0.25  0.62  1.22  0.96  0.21 -0.11 -0.25\n",
      " -0.24 -0.43  0.23  0.67  0.78  0.41  0.98  1.28  1.45  1.02  0.03 -0.59\n",
      " -1.34 -0.99 -1.49 -1.74 -1.33 -0.55 -0.51 -0.36 -0.99  0.32  1.04  1.41\n",
      "  0.99  0.66  0.5   0.22  0.71 -0.16  0.38  0.   -1.11 -1.04  0.05 -0.64\n",
      " -0.34 -0.5  -1.85 -0.94 -0.78  0.29  0.27  0.69 -0.06 -0.83 -0.8  -1.02\n",
      " -0.96 -0.09  0.62  0.87  1.03  0.7  -0.1  -0.31  0.04 -0.46  0.04  0.24\n",
      " -0.08 -0.28  0.06  0.05 -0.31  0.11  0.27  0.26  0.04  0.12  1.11  1.53\n",
      "  1.23  0.17 -0.18 -0.56  0.05  0.41  0.22  0.04 -0.19 -0.46 -0.65 -1.06\n",
      " -0.54  0.14  0.25 -0.21 -0.73 -0.43  0.48  0.26  0.05  0.11 -0.27 -0.08\n",
      " -0.1   0.29 -0.15 -0.28 -0.55 -0.44 -1.4  -0.55 -0.69  0.58  0.37  0.42\n",
      "  1.83  1.23  0.65  0.41  1.03  0.64 -0.07  0.98  0.36 -0.3  -1.33 -1.39\n",
      " -0.94  0.34 -0.   -0.15  0.06  0.39  0.36 -0.49 -0.53  0.35  0.07 -0.24\n",
      "  0.2  -0.22 -0.68 -0.44  0.02 -0.22 -0.3  -0.59  0.1  -0.02 -0.27 -0.6\n",
      " -0.48 -0.37 -0.53 -1.35 -1.22 -0.99 -0.34 -0.79 -0.24  0.02  0.69  0.78\n",
      "  0.17 -0.17 -0.29 -0.27  0.31  0.44  0.38  0.24 -0.13 -0.89 -0.76 -0.71\n",
      " -0.37 -0.59 -0.63 -1.47 -0.4  -0.18 -0.37 -0.43 -0.06  0.61  1.33  1.19\n",
      "  1.13  0.31  0.14  0.03  0.21  0.15 -0.22 -0.02  0.03 -0.17  0.12 -0.35\n",
      " -0.06  0.38 -0.45 -0.32 -0.33 -0.49 -0.14 -0.56 -0.18  0.46  1.09  1.04\n",
      "  0.23 -0.99 -0.59 -0.92 -0.28  0.52  1.31  1.45  0.61 -0.11 -0.18 -0.39\n",
      " -0.39 -0.36 -0.5  -0.81 -1.1  -0.29  0.57  0.68  0.78  0.78  0.63  0.98\n",
      "  0.49 -0.42 -1.34 -1.2  -1.18 -0.65 -0.42 -0.97 -0.28  0.77  1.77  2.22\n",
      "  1.05 -0.67 -0.99 -1.52 -1.17 -0.22 -0.04 -0.45 -0.46 -0.75 -0.7  -1.38\n",
      " -1.15 -0.01  0.97  1.1   0.68 -0.02 -0.04  0.47  0.3  -0.55 -0.51 -0.09\n",
      " -0.01  0.34  0.61  0.58  0.33  0.38  0.1   0.18 -0.3  -0.06 -0.28  0.12\n",
      "  0.58  0.89  0.93  2.39  2.44  1.92  0.64 -0.24  0.27 -0.13 -0.16 -0.54\n",
      " -0.13 -0.37 -0.78 -0.22  0.03  0.25  0.31  1.03  1.1   1.05  1.11  1.28\n",
      "  0.57 -0.55 -1.16 -0.99 -0.38  0.01 -0.29  0.09  0.46  0.57  0.24  0.39\n",
      "  0.49  0.86  0.51  0.95  1.25  1.33 -0.    0.34  0.66  1.11  0.34  0.48\n",
      "  0.56  0.39 -0.17  1.04  0.77  0.12 -0.35 -0.22  0.08 -0.08 -0.18 -0.06]\n"
     ]
    }
   ],
   "source": [
    "# Download nino3 data\n",
    "import geocat.datafiles as gcd\n",
    "\n",
    "nino3_data = gcd.get('ascii_files/sst_nino3.dat')\n",
    "nino3_data = np.loadtxt(nino3_data)\n",
    "print(nino3_data)"
   ]
  },
  {
   "cell_type": "markdown",
   "metadata": {},
   "source": [
    "#### Plot and View Data"
   ]
  },
  {
   "cell_type": "code",
   "execution_count": 14,
   "metadata": {},
   "outputs": [],
   "source": [
    "fig, ax = plt.subplots(figsize=(10, 10))\n",
    "plt.title(\"El Niño Sea Surface Temperature\")\n",
    "plt.xlabel(\"Years (from 1871)\")\n",
    "plt.ylabel(\"Sea Surface Temparture Changes\")\n",
    "plt.plot(nino3_data)\n",
    "plt.show()"
   ]
  },
  {
   "cell_type": "markdown",
   "metadata": {},
   "source": [
    "## Wavelet Input Values"
   ]
  },
  {
   "cell_type": "markdown",
   "metadata": {},
   "source": [
    "Wavelet inputs include:\n",
    "\n",
    "- x: Input time-series data (for example, the time and temperature data from nino3)\n",
    "- wavelet: mother wavelet name\n",
    "- dt: sampling period (time between each y-value)\n",
    "- s0: smallest scale\n",
    "- dj: spacing between each discrete scales\n",
    "- jtot: largest scale"
   ]
  },
  {
   "cell_type": "code",
   "execution_count": 15,
   "metadata": {},
   "outputs": [],
   "source": [
    "dt = 0.25  # sampling period (time between each y-value)\n",
    "s0 = 0.25  # smallest scale\n",
    "dj = 0.25  # spacing between each discrete scales\n",
    "jtot = 44  # largest scale"
   ]
  },
  {
   "cell_type": "markdown",
   "metadata": {},
   "source": [
    "### Define Complex Morlet"
   ]
  },
  {
   "cell_type": "code",
   "execution_count": 59,
   "metadata": {},
   "outputs": [],
   "source": [
    "TODO: Choosing a Complex Morlet"
   ]
  },
  {
   "cell_type": "code",
   "execution_count": 16,
   "metadata": {},
   "outputs": [],
   "source": [
    "bandwidth = 1.5\n",
    "center_freq = 1\n",
    "wavelet_mother = f\"cmor{bandwidth}-{center_freq}\"\n",
    "print(wavelet_mother)"
   ]
  },
  {
   "cell_type": "markdown",
   "metadata": {},
   "source": [
    "## PyWavelets"
   ]
  },
  {
   "cell_type": "code",
   "execution_count": 17,
   "metadata": {},
   "outputs": [],
   "source": [
    "scales = np.arange(1, jtot + 1, dj)\n",
    "wavelet_coeffs, freqs = pywt.cwt(\n",
    "    data=nino3_data, scales=scales, wavelet=wavelet_mother, sampling_period=dt\n",
    ")"
   ]
  },
  {
   "cell_type": "markdown",
   "metadata": {},
   "source": [
    "## Power Spectrum"
   ]
  },
  {
   "cell_type": "code",
   "execution_count": 18,
   "metadata": {},
   "outputs": [],
   "source": [
    "# power spectrum (absolute value squared)\n",
    "power = np.power((abs(wavelet_coeffs)), 2)"
   ]
  },
  {
   "cell_type": "code",
   "execution_count": 19,
   "metadata": {},
   "outputs": [],
   "source": [
    "fig, ax = plt.subplots(figsize=(10, 10))\n",
    "\n",
    "# Convert Y-Axis from default to symmetrical log (symlog) with labels\n",
    "ax.set_yscale(\"symlog\")\n",
    "ax.invert_yaxis()\n",
    "ax.set_yticks([10, 20, 30, 40, 50])\n",
    "ax.set_yticklabels([10, 20, 30, 40, 50])\n",
    "\n",
    "# Plot contour around data\n",
    "plt.contourf(\n",
    "    power, vmax=(power).max(), vmin=(power).min(), levels=10\n",
    ")\n",
    "plt.contour(power, levels=10, colors=\"k\", linewidths=0.5, alpha=0.75)\n",
    "\n",
    "# Plot Scalogram\n",
    "plt.imshow(\n",
    "    power, vmax=(power).max(), vmin=(power).min(), aspect=\"auto\"\n",
    ")\n",
    "\n",
    "# Convert default X-axis from time steps of 0-504 (0-len(nino3_data)) to Years\n",
    "start_year = 1871\n",
    "end_year = 1871 + (len(nino3_data) * dt)\n",
    "x_tickrange = np.arange(start_year, end_year, dt)\n",
    "start = int(9 / dt)  # 36, starts the x-axis label at 1880 (9 years after start of data)\n",
    "display_nth = int(20 / dt)  # 80, display x-axis label every 20 years\n",
    "plt.xticks(range(len(x_tickrange))[start::display_nth], x_tickrange[start::display_nth])\n",
    "\n",
    "plt.title(\"El Niño Wavelet Power Spectrum\")\n",
    "plt.xlabel(\"Year\")\n",
    "plt.ylabel(\"Scale\")\n",
    "plt.colorbar()\n",
    "plt.show()"
   ]
  },
  {
   "cell_type": "markdown",
   "metadata": {},
   "source": [
    "## Phase Spectrum"
   ]
  },
  {
   "cell_type": "code",
   "execution_count": 20,
   "metadata": {},
   "outputs": [],
   "source": [
    "# compare the phase spectrum\n",
    "phase = np.angle(wavelet_coeffs)"
   ]
  },
  {
   "cell_type": "code",
   "execution_count": 21,
   "metadata": {},
   "outputs": [],
   "source": [
    "fig, ax = plt.subplots(figsize=(10, 10))\n",
    "\n",
    "# Convert Y-Axis from default to symmetrical log (symlog) with labels\n",
    "ax.set_yscale(\"symlog\")\n",
    "ax.invert_yaxis()\n",
    "ax.set_yticks([10, 20, 30, 40, 50])\n",
    "ax.set_yticklabels([10, 20, 30, 40, 50])\n",
    "\n",
    "# Plot scalogram\n",
    "plt.imshow(\n",
    "    phase, vmax=(phase).max(), vmin=(phase).min(), aspect=\"auto\"\n",
    ")\n",
    "\n",
    "# Convert default X-axis from time steps of 0-504 (0-len(sst_data)) to Years\n",
    "start_year = 1871\n",
    "end_year = 1871 + (len(nino3_data) * dt)\n",
    "x_tickrange = np.arange(start_year, end_year, dt)\n",
    "start = int(9 / dt)  # 36, starts the x-axis label at 1880 (9 years after start of data)\n",
    "display_nth = int(20 / dt)  # 80, display x-axis label every 20 years\n",
    "plt.xticks(range(len(x_tickrange))[start::display_nth], x_tickrange[start::display_nth])\n",
    "\n",
    "plt.title(\"El Niño Wavelet Phase Spectrum\")\n",
    "plt.xlabel(\"Year\")\n",
    "plt.ylabel(\"Scale\")\n",
    "plt.colorbar()\n",
    "plt.show()"
   ]
  },
  {
   "cell_type": "markdown",
   "metadata": {},
   "source": [
    "---"
   ]
  },
  {
   "cell_type": "markdown",
   "metadata": {},
   "source": [
    "## Summary\n",
    "Add one final `---` marking the end of your body of content, and then conclude with a brief single paragraph summarizing at a high level the key pieces that were learned and how they tied to your objectives. Look to reiterate what the most important takeaways were.\n",
    "\n",
    "### What's next?\n",
    "Let Jupyter book tie this to the next (sequential) piece of content that people could move on to down below and in the sidebar. However, if this page uniquely enables your reader to tackle other nonsequential concepts throughout this book, or even external content, link to it here!"
   ]
  },
  {
   "cell_type": "markdown",
   "metadata": {},
   "source": [
    "## Resources and references\n",
    "Finally, be rigorous in your citations and references as necessary. Give credit where credit is due. Also, feel free to link to relevant external material, further reading, documentation, etc. Then you're done! Give yourself a quick review, a high five, and send us a pull request. A few final notes:\n",
    " - `Kernel > Restart Kernel and Run All Cells...` to confirm that your notebook will cleanly run from start to finish\n",
    " - `Kernel > Restart Kernel and Clear All Outputs...` before committing your notebook, our machines will do the heavy lifting\n",
    " - Take credit! Provide author contact information if you'd like; if so, consider adding information here at the bottom of your notebook\n",
    " - Give credit! Attribute appropriate authorship for referenced code, information, images, etc.\n",
    " - Only include what you're legally allowed: **no copyright infringement or plagiarism**\n",
    " \n",
    "Thank you for your contribution!"
   ]
  }
 ],
 "metadata": {
  "kernelspec": {
   "display_name": "Python 3 (ipykernel)",
   "language": "python",
   "name": "python3"
  },
  "language_info": {
   "codemirror_mode": {
    "name": "ipython",
    "version": 3
   },
   "file_extension": ".py",
   "mimetype": "text/x-python",
   "name": "python",
   "nbconvert_exporter": "python",
   "pygments_lexer": "ipython3",
   "version": "3.11.8"
  },
  "nbdime-conflicts": {
   "local_diff": [
    {
     "diff": [
      {
       "diff": [
        {
         "key": 0,
         "op": "addrange",
         "valuelist": [
          "Python 3"
         ]
        },
        {
         "key": 0,
         "length": 1,
         "op": "removerange"
        }
       ],
       "key": "display_name",
       "op": "patch"
      }
     ],
     "key": "kernelspec",
     "op": "patch"
    }
   ],
   "remote_diff": [
    {
     "diff": [
      {
       "diff": [
        {
         "key": 0,
         "op": "addrange",
         "valuelist": [
          "Python3"
         ]
        },
        {
         "key": 0,
         "length": 1,
         "op": "removerange"
        }
       ],
       "key": "display_name",
       "op": "patch"
      }
     ],
     "key": "kernelspec",
     "op": "patch"
    }
   ]
  },
  "toc-autonumbering": false
 },
 "nbformat": 4,
 "nbformat_minor": 4
}
