{
 "cells": [
  {
   "cell_type": "markdown",
   "metadata": {},
   "source": [
    "<p align=\"center\">\n",
    "  <img src=\"https://www.climate.gov/sites/default/files/2023-06/ENSOblog_animation_SSTA_anom_weekly_2023_Jun.gif\" alt=\"Weekly Sea Surface Temperature Patterns from NOAA\" />\n",
    "</p>"
   ]
  },
  {
   "cell_type": "markdown",
   "metadata": {},
   "source": [
    "# Atmospheric Data: Nino 3 SST Index"
   ]
  },
  {
   "cell_type": "markdown",
   "metadata": {},
   "source": [
    "---"
   ]
  },
  {
   "cell_type": "markdown",
   "metadata": {},
   "source": [
    "## Overview\n",
    "Generating a wavelet power and phase spectrum from the  time-series data [Nino 3 SST Index](https://psl.noaa.gov/gcos_wgsp/Timeseries/Nino3/)\n",
    "\n",
    "1. Prerequisties\n",
    "2. Background\n",
    "3. Download and Organize Nino 3 SST Data\n",
    "4. Wavelet Input Values\n",
    "5. PyWavelets\n",
    "6. Power Spectrum\n",
    "7. Phase Spectrum"
   ]
  },
  {
   "cell_type": "markdown",
   "metadata": {},
   "source": [
    "## Prerequisites\n",
    "\n",
    "| Concepts | Importance | Notes |\n",
    "| --- | --- | --- |\n",
    "| [Wavelet Basics](https://projectpythia.org/wavelet-cookbook/notebooks/wavelet-introduction/wavelet-basics.html) | Necessary | Wavelet Terminology |\n",
    "| [Intro to Matplotlib](https://foundations.projectpythia.org/core/matplotlib/matplotlib-basics.html) | Necessary | Plotting on a data |\n",
    "| [Intro to Numpy](https://foundations.projectpythia.org/core/numpy/numpy-basics.html)| Necessary | Familiarity with working with arrays |\n",
    "\n",
    "- **Time to learn**: estimate in minutes. For a rough idea, use 5 mins per subsection, 10 if longer; add these up for a total. Safer to round up and overestimate.\n",
    "- **System requirements**:\n",
    "    - Populate with any system, version, or non-Python software requirements if necessary\n",
    "    - Otherwise use the concepts table above and the Imports section below to describe required packages as necessary\n",
    "    - If no extra requirements, remove the **System requirements** point altogether"
   ]
  },
  {
   "cell_type": "markdown",
   "metadata": {},
   "source": [
    "---"
   ]
  },
  {
   "cell_type": "markdown",
   "metadata": {},
   "source": [
    "## Background\n",
    "\n",
    "### What is an El Niño?\n",
    "\n",
    "[Learn more!](https://oceanservice.noaa.gov/facts/ninonina.html)\n",
    "\n",
    "### Wavelets and Atmospheric Data\n",
    "\n",
    "TODO"
   ]
  },
  {
   "cell_type": "markdown",
   "metadata": {},
   "source": [
    "## Imports"
   ]
  },
  {
   "cell_type": "code",
   "execution_count": 5,
   "metadata": {},
   "outputs": [],
   "source": [
    "import pywt                      # PyWavelets\n",
    "import numpy as np               # complex numbers (real and imaginary)\n",
    "import xarray as xr              # working with geocat-datafiles\n",
    "import geocat.datafiles as gcd   # accessing nino 3 data file\n",
    "import matplotlib.pyplot as plt  # plot data"
   ]
  },
  {
   "cell_type": "markdown",
   "metadata": {},
   "source": [
    "### Download and Organize Nino 3 SST Data"
   ]
  },
  {
   "cell_type": "markdown",
   "metadata": {},
   "source": [
    "#### Download Nino 3 data and skip the header information"
   ]
  },
  {
   "cell_type": "code",
   "execution_count": 11,
   "metadata": {},
   "outputs": [
    {
     "ename": "NameError",
     "evalue": "name 'nino_url' is not defined",
     "output_type": "error",
     "traceback": [
      "\u001b[0;31m---------------------------------------------------------------------------\u001b[0m",
      "\u001b[0;31mNameError\u001b[0m                                 Traceback (most recent call last)",
      "Cell \u001b[0;32mIn[11], line 2\u001b[0m\n\u001b[1;32m      1\u001b[0m \u001b[38;5;66;03m#nino_url = 'https://paos.colorado.edu/research/wavelets/wave_idl/nino3sst.txt'\u001b[39;00m\n\u001b[0;32m----> 2\u001b[0m nino3_data \u001b[38;5;241m=\u001b[39m np\u001b[38;5;241m.\u001b[39mgenfromtxt(nino_url, skip_header\u001b[38;5;241m=\u001b[39m\u001b[38;5;241m19\u001b[39m)\n\u001b[1;32m      3\u001b[0m \u001b[38;5;66;03m#nino3_data = xr.open_dataset(gcd.get('ascii_files/sst_nino3.dat'))\u001b[39;00m\n\u001b[1;32m      4\u001b[0m \u001b[38;5;28mprint\u001b[39m(nino3_data)\n",
      "\u001b[0;31mNameError\u001b[0m: name 'nino_url' is not defined"
     ]
    }
   ],
   "source": [
    "nino_url = 'https://paos.colorado.edu/research/wavelets/wave_idl/nino3sst.txt'\n",
    "nino3_data = np.genfromtxt(nino_url, skip_header=19)\n",
    "#nino3_data = xr.open_dataset(gcd.get('ascii_files/sst_nino3.dat'))\n",
    "print(nino3_data)"
   ]
  },
  {
   "cell_type": "markdown",
   "metadata": {},
   "source": [
    "#### Plot and View Data"
   ]
  },
  {
   "cell_type": "code",
   "execution_count": 7,
   "metadata": {},
   "outputs": [
    {
     "data": {
      "image/png": "[encoded data removed]",
      "text/plain": [
       "<Figure size 1000x1000 with 1 Axes>"
      ]
     },
     "metadata": {},
     "output_type": "display_data"
    }
   ],
   "source": [
    "fig, ax = plt.subplots(figsize=(10, 10))\n",
    "plt.title(\"El Niño Sea Surface Temperature\")\n",
    "plt.xlabel(\"Years (from 1871)\")\n",
    "plt.ylabel(\"Sea Surface Temparture Changes\")\n",
    "plt.plot(nino3_data)\n",
    "plt.show()"
   ]
  },
  {
   "cell_type": "markdown",
   "metadata": {},
   "source": [
    "## Wavelet Input Values"
   ]
  },
  {
   "cell_type": "markdown",
   "metadata": {},
   "source": [
    "Wavelet inputs include:\n",
    "\n",
    "- x: Input time-series data (for example, the time and temperature data from nino3)\n",
    "- wavelet: mother wavelet name\n",
    "- dt: sampling period (time between each y-value)\n",
    "- s0: smallest scale\n",
    "- dj: spacing between each discrete scales\n",
    "- jtot: largest scale"
   ]
  },
  {
   "cell_type": "code",
   "execution_count": 8,
   "metadata": {},
   "outputs": [],
   "source": [
    "dt = 0.25  # sampling period (time between each y-value)\n",
    "s0 = 0.25  # smallest scale\n",
    "dj = 0.25  # spacing between each discrete scales\n",
    "jtot = 44  # largest scale"
   ]
  },
  {
   "cell_type": "markdown",
   "metadata": {},
   "source": [
    "### Define Complex Morlet"
   ]
  },
  {
   "cell_type": "markdown",
   "metadata": {},
   "source": [
    "TODO: Choosing a Complex Morlet"
   ]
  },
  {
   "cell_type": "code",
   "execution_count": 9,
   "metadata": {},
   "outputs": [
    {
     "name": "stdout",
     "output_type": "stream",
     "text": [
      "cmor1.5-1\n"
     ]
    }
   ],
   "source": [
    "bandwidth = 1.5\n",
    "center_freq = 1\n",
    "wavelet_mother = f\"cmor{bandwidth}-{center_freq}\"\n",
    "print(wavelet_mother)"
   ]
  },
  {
   "cell_type": "markdown",
   "metadata": {},
   "source": [
    "## PyWavelets"
   ]
  },
  {
   "cell_type": "code",
   "execution_count": 10,
   "metadata": {},
   "outputs": [
    {
     "ename": "ValueError",
     "evalue": "v cannot be empty",
     "output_type": "error",
     "traceback": [
      "\u001b[0;31m---------------------------------------------------------------------------\u001b[0m",
      "\u001b[0;31mValueError\u001b[0m                                Traceback (most recent call last)",
      "Cell \u001b[0;32mIn[10], line 2\u001b[0m\n\u001b[1;32m      1\u001b[0m scales \u001b[38;5;241m=\u001b[39m np\u001b[38;5;241m.\u001b[39marange(\u001b[38;5;241m1\u001b[39m, jtot \u001b[38;5;241m+\u001b[39m \u001b[38;5;241m1\u001b[39m, dj)\n\u001b[0;32m----> 2\u001b[0m wavelet_coeffs, freqs \u001b[38;5;241m=\u001b[39m pywt\u001b[38;5;241m.\u001b[39mcwt(\n\u001b[1;32m      3\u001b[0m     data\u001b[38;5;241m=\u001b[39mnino3_data, scales\u001b[38;5;241m=\u001b[39mscales, wavelet\u001b[38;5;241m=\u001b[39mwavelet_mother, sampling_period\u001b[38;5;241m=\u001b[39mdt\n\u001b[1;32m      4\u001b[0m )\n",
      "File \u001b[0;32m~/miniconda3/envs/wavelet_tutorial/lib/python3.11/site-packages/pywt/_cwt.py:158\u001b[0m, in \u001b[0;36mcwt\u001b[0;34m(data, scales, wavelet, sampling_period, method, axis)\u001b[0m\n\u001b[1;32m    156\u001b[0m \u001b[38;5;28;01mif\u001b[39;00m method \u001b[38;5;241m==\u001b[39m \u001b[38;5;124m'\u001b[39m\u001b[38;5;124mconv\u001b[39m\u001b[38;5;124m'\u001b[39m:\n\u001b[1;32m    157\u001b[0m     \u001b[38;5;28;01mif\u001b[39;00m data\u001b[38;5;241m.\u001b[39mndim \u001b[38;5;241m==\u001b[39m \u001b[38;5;241m1\u001b[39m:\n\u001b[0;32m--> 158\u001b[0m         conv \u001b[38;5;241m=\u001b[39m np\u001b[38;5;241m.\u001b[39mconvolve(data, int_psi_scale)\n\u001b[1;32m    159\u001b[0m     \u001b[38;5;28;01melse\u001b[39;00m:\n\u001b[1;32m    160\u001b[0m         \u001b[38;5;66;03m# batch convolution via loop\u001b[39;00m\n\u001b[1;32m    161\u001b[0m         conv_shape \u001b[38;5;241m=\u001b[39m \u001b[38;5;28mlist\u001b[39m(data\u001b[38;5;241m.\u001b[39mshape)\n",
      "File \u001b[0;32m~/miniconda3/envs/wavelet_tutorial/lib/python3.11/site-packages/numpy/core/numeric.py:833\u001b[0m, in \u001b[0;36mconvolve\u001b[0;34m(a, v, mode)\u001b[0m\n\u001b[1;32m    831\u001b[0m     \u001b[38;5;28;01mraise\u001b[39;00m \u001b[38;5;167;01mValueError\u001b[39;00m(\u001b[38;5;124m'\u001b[39m\u001b[38;5;124ma cannot be empty\u001b[39m\u001b[38;5;124m'\u001b[39m)\n\u001b[1;32m    832\u001b[0m \u001b[38;5;28;01mif\u001b[39;00m \u001b[38;5;28mlen\u001b[39m(v) \u001b[38;5;241m==\u001b[39m \u001b[38;5;241m0\u001b[39m:\n\u001b[0;32m--> 833\u001b[0m     \u001b[38;5;28;01mraise\u001b[39;00m \u001b[38;5;167;01mValueError\u001b[39;00m(\u001b[38;5;124m'\u001b[39m\u001b[38;5;124mv cannot be empty\u001b[39m\u001b[38;5;124m'\u001b[39m)\n\u001b[1;32m    834\u001b[0m \u001b[38;5;28;01mreturn\u001b[39;00m multiarray\u001b[38;5;241m.\u001b[39mcorrelate(a, v[::\u001b[38;5;241m-\u001b[39m\u001b[38;5;241m1\u001b[39m], mode)\n",
      "\u001b[0;31mValueError\u001b[0m: v cannot be empty"
     ]
    }
   ],
   "source": [
    "scales = np.arange(1, jtot + 1, dj)\n",
    "wavelet_coeffs, freqs = pywt.cwt(\n",
    "    data=nino3_data, scales=scales, wavelet=wavelet_mother, sampling_period=dt\n",
    ")"
   ]
  },
  {
   "cell_type": "markdown",
   "metadata": {},
   "source": [
    "## Power Spectrum"
   ]
  },
  {
   "cell_type": "code",
   "execution_count": null,
   "metadata": {},
   "outputs": [],
   "source": [
    "# power spectrum (absolute value squared)\n",
    "power = np.power((abs(wavelet_coeffs)), 2)"
   ]
  },
  {
   "cell_type": "code",
   "execution_count": null,
   "metadata": {},
   "outputs": [],
   "source": [
    "fig, ax = plt.subplots(figsize=(10, 10))\n",
    "\n",
    "# Convert Y-Axis from default to symmetrical log (symlog) with labels\n",
    "ax.set_yscale(\"symlog\")\n",
    "ax.invert_yaxis()\n",
    "ax.set_yticks([10, 20, 30, 40, 50])\n",
    "ax.set_yticklabels([10, 20, 30, 40, 50])\n",
    "\n",
    "# Plot contour around data\n",
    "plt.contourf(\n",
    "    power, vmax=(power).max(), vmin=(power).min(), levels=10\n",
    ")\n",
    "plt.contour(power, levels=10, colors=\"k\", linewidths=0.5, alpha=0.75)\n",
    "\n",
    "# Plot Scalogram\n",
    "plt.imshow(\n",
    "    power, vmax=(power).max(), vmin=(power).min(), aspect=\"auto\"\n",
    ")\n",
    "\n",
    "# Convert default X-axis from time steps of 0-504 (0-len(nino3_data)) to Years\n",
    "start_year = 1871\n",
    "end_year = 1871 + (len(nino3_data) * dt)\n",
    "x_tickrange = np.arange(start_year, end_year, dt)\n",
    "start = int(9 / dt)  # 36, starts the x-axis label at 1880 (9 years after start of data)\n",
    "display_nth = int(20 / dt)  # 80, display x-axis label every 20 years\n",
    "plt.xticks(range(len(x_tickrange))[start::display_nth], x_tickrange[start::display_nth])\n",
    "\n",
    "plt.title(\"El Niño Wavelet Power Spectrum\")\n",
    "plt.xlabel(\"Year\")\n",
    "plt.ylabel(\"Scale\")\n",
    "plt.colorbar()\n",
    "plt.show()"
   ]
  },
  {
   "cell_type": "markdown",
   "metadata": {},
   "source": [
    "## Phase Spectrum"
   ]
  },
  {
   "cell_type": "code",
   "execution_count": null,
   "metadata": {},
   "outputs": [],
   "source": [
    "# compare the phase spectrum\n",
    "phase = np.angle(wavelet_coeffs)"
   ]
  },
  {
   "cell_type": "code",
   "execution_count": null,
   "metadata": {},
   "outputs": [],
   "source": [
    "fig, ax = plt.subplots(figsize=(10, 10))\n",
    "\n",
    "# Convert Y-Axis from default to symmetrical log (symlog) with labels\n",
    "ax.set_yscale(\"symlog\")\n",
    "ax.invert_yaxis()\n",
    "ax.set_yticks([10, 20, 30, 40, 50])\n",
    "ax.set_yticklabels([10, 20, 30, 40, 50])\n",
    "\n",
    "# Plot scalogram\n",
    "plt.imshow(\n",
    "    phase, vmax=(phase).max(), vmin=(phase).min(), aspect=\"auto\"\n",
    ")\n",
    "\n",
    "# Convert default X-axis from time steps of 0-504 (0-len(sst_data)) to Years\n",
    "start_year = 1871\n",
    "end_year = 1871 + (len(nino3_data) * dt)\n",
    "x_tickrange = np.arange(start_year, end_year, dt)\n",
    "start = int(9 / dt)  # 36, starts the x-axis label at 1880 (9 years after start of data)\n",
    "display_nth = int(20 / dt)  # 80, display x-axis label every 20 years\n",
    "plt.xticks(range(len(x_tickrange))[start::display_nth], x_tickrange[start::display_nth])\n",
    "\n",
    "plt.title(\"El Niño Wavelet Phase Spectrum\")\n",
    "plt.xlabel(\"Year\")\n",
    "plt.ylabel(\"Scale\")\n",
    "plt.colorbar()\n",
    "plt.show()"
   ]
  },
  {
   "cell_type": "markdown",
   "metadata": {},
   "source": [
    "## Last Section\n",
    "\n",
    "If you're comfortable, and as we briefly used for our embedded logo up top, you can embed raw html into Jupyter Markdown cells (edit to see):"
   ]
  },
  {
   "cell_type": "markdown",
   "metadata": {},
   "source": [
    "<div class=\"admonition alert alert-info\">\n",
    "    <p class=\"admonition-title\" style=\"font-weight:bold\">Info</p>\n",
    "    Your relevant information here!\n",
    "</div>"
   ]
  },
  {
   "cell_type": "markdown",
   "metadata": {},
   "source": [
    "Feel free to copy this around and edit or play around with yourself. Some other `admonitions` you can put in:"
   ]
  },
  {
   "cell_type": "markdown",
   "metadata": {},
   "source": [
    "<div class=\"admonition alert alert-success\">\n",
    "    <p class=\"admonition-title\" style=\"font-weight:bold\">Success</p>\n",
    "    We got this done after all!\n",
    "</div>"
   ]
  },
  {
   "cell_type": "markdown",
   "metadata": {},
   "source": [
    "<div class=\"admonition alert alert-warning\">\n",
    "    <p class=\"admonition-title\" style=\"font-weight:bold\">Warning</p>\n",
    "    Be careful!\n",
    "</div>"
   ]
  },
  {
   "cell_type": "markdown",
   "metadata": {},
   "source": [
    "<div class=\"admonition alert alert-danger\">\n",
    "    <p class=\"admonition-title\" style=\"font-weight:bold\">Danger</p>\n",
    "    Scary stuff be here.\n",
    "</div>"
   ]
  },
  {
   "cell_type": "markdown",
   "metadata": {},
   "source": [
    "We also suggest checking out Jupyter Book's [brief demonstration](https://jupyterbook.org/content/metadata.html#jupyter-cell-tags) on adding cell tags to your cells in Jupyter Notebook, Lab, or manually. Using these cell tags can allow you to [customize](https://jupyterbook.org/interactive/hiding.html) how your code content is displayed and even [demonstrate errors](https://jupyterbook.org/content/execute.html#dealing-with-code-that-raises-errors) without altogether crashing our loyal army of machines!"
   ]
  },
  {
   "cell_type": "markdown",
   "metadata": {},
   "source": [
    "---"
   ]
  },
  {
   "cell_type": "markdown",
   "metadata": {},
   "source": [
    "## Summary\n",
    "Add one final `---` marking the end of your body of content, and then conclude with a brief single paragraph summarizing at a high level the key pieces that were learned and how they tied to your objectives. Look to reiterate what the most important takeaways were.\n",
    "\n",
    "### What's next?\n",
    "Let Jupyter book tie this to the next (sequential) piece of content that people could move on to down below and in the sidebar. However, if this page uniquely enables your reader to tackle other nonsequential concepts throughout this book, or even external content, link to it here!"
   ]
  },
  {
   "cell_type": "markdown",
   "metadata": {},
   "source": [
    "## Resources and references\n",
    "Finally, be rigorous in your citations and references as necessary. Give credit where credit is due. Also, feel free to link to relevant external material, further reading, documentation, etc. Then you're done! Give yourself a quick review, a high five, and send us a pull request. A few final notes:\n",
    " - `Kernel > Restart Kernel and Run All Cells...` to confirm that your notebook will cleanly run from start to finish\n",
    " - `Kernel > Restart Kernel and Clear All Outputs...` before committing your notebook, our machines will do the heavy lifting\n",
    " - Take credit! Provide author contact information if you'd like; if so, consider adding information here at the bottom of your notebook\n",
    " - Give credit! Attribute appropriate authorship for referenced code, information, images, etc.\n",
    " - Only include what you're legally allowed: **no copyright infringement or plagiarism**\n",
    " \n",
    "Thank you for your contribution!"
   ]
  }
 ],
 "metadata": {
  "kernelspec": {
   "display_name": "Python 3 (ipykernel)",
   "language": "python",
   "name": "python3"
  },
  "language_info": {
   "codemirror_mode": {
    "name": "ipython",
    "version": 3
   },
   "file_extension": ".py",
   "mimetype": "text/x-python",
   "name": "python",
   "nbconvert_exporter": "python",
   "pygments_lexer": "ipython3",
   "version": "3.11.8"
  },
  "nbdime-conflicts": {
   "local_diff": [
    {
     "diff": [
      {
       "diff": [
        {
         "key": 0,
         "op": "addrange",
         "valuelist": [
          "Python 3"
         ]
        },
        {
         "key": 0,
         "length": 1,
         "op": "removerange"
        }
       ],
       "key": "display_name",
       "op": "patch"
      }
     ],
     "key": "kernelspec",
     "op": "patch"
    }
   ],
   "remote_diff": [
    {
     "diff": [
      {
       "diff": [
        {
         "key": 0,
         "op": "addrange",
         "valuelist": [
          "Python3"
         ]
        },
        {
         "key": 0,
         "length": 1,
         "op": "removerange"
        }
       ],
       "key": "display_name",
       "op": "patch"
      }
     ],
     "key": "kernelspec",
     "op": "patch"
    }
   ]
  },
  "toc-autonumbering": false
 },
 "nbformat": 4,
 "nbformat_minor": 4
}
